{
  "nbformat": 4,
  "nbformat_minor": 0,
  "metadata": {
    "colab": {
      "provenance": []
    },
    "kernelspec": {
      "name": "python3",
      "display_name": "Python 3"
    },
    "language_info": {
      "name": "python"
    }
  },
  "cells": [
    {
      "cell_type": "code",
      "source": [
        "!pip install torchinfo\n",
        "\n",
        "import torchinfo"
      ],
      "metadata": {
        "id": "pXsUF0OhHG5f"
      },
      "execution_count": null,
      "outputs": []
    },
    {
      "cell_type": "code",
      "execution_count": 22,
      "metadata": {
        "id": "278bY1FYG_lg"
      },
      "outputs": [],
      "source": [
        "import torch\n",
        "import torch.nn as nn\n",
        "import torch.optim as optim\n",
        "from torchvision import transforms, datasets\n",
        "from torch.utils.data import DataLoader\n",
        "import matplotlib.pyplot as plt\n"
      ]
    },
    {
      "cell_type": "code",
      "source": [
        "class SimpleAE(nn.Module):\n",
        "  def __init__(self, input_dim):\n",
        "    super().__init__()\n",
        "\n",
        "    self.encoder = nn.Sequential(\n",
        "        nn.Linear(input_dim, 256),\n",
        "        nn.ReLU(),\n",
        "        nn.Linear(256, 64),\n",
        "        nn.ReLU(),\n",
        "        nn.Linear(64, 32)\n",
        "    )\n",
        "\n",
        "    self.decoder = nn.Sequential(\n",
        "        nn.Linear(32, 64),\n",
        "        nn.ReLU(),\n",
        "        nn.Linear(64, 256),\n",
        "        nn.ReLU(),\n",
        "        nn.Linear(256, input_dim),\n",
        "        nn.Sigmoid()\n",
        "    )\n",
        "\n",
        "  def forward(self, x):\n",
        "    x = self.encoder(x)\n",
        "    x = self.decoder(x)\n",
        "    return x"
      ],
      "metadata": {
        "id": "VtpSnTogHUFH"
      },
      "execution_count": 4,
      "outputs": []
    },
    {
      "cell_type": "code",
      "source": [
        "transform = transforms.Compose([\n",
        "    transforms.ToTensor(),\n",
        "    transforms.Lambda(lambda x: x.view(-1))  # flatten\n",
        "])"
      ],
      "metadata": {
        "id": "Ka-7IdyCICPC"
      },
      "execution_count": 6,
      "outputs": []
    },
    {
      "cell_type": "code",
      "source": [
        "mnist_train = datasets.MNIST(root=\"./data\", train=True, transform=transform, download=True)\n",
        "mnist_test = datasets.MNIST(root=\"./data\", train=False, transform=transform, download=True)"
      ],
      "metadata": {
        "id": "5FKv_3aDIPVW"
      },
      "execution_count": null,
      "outputs": []
    },
    {
      "cell_type": "code",
      "source": [
        "input_dim = 28 * 28\n",
        "model = SimpleAE(input_dim=input_dim)\n",
        "print(model)"
      ],
      "metadata": {
        "colab": {
          "base_uri": "https://localhost:8080/"
        },
        "id": "EUsk9FnqIj0e",
        "outputId": "674f2505-376a-40d8-a167-b4791ec83f8d"
      },
      "execution_count": 9,
      "outputs": [
        {
          "output_type": "stream",
          "name": "stdout",
          "text": [
            "SimpleAE(\n",
            "  (encoder): Sequential(\n",
            "    (0): Linear(in_features=784, out_features=256, bias=True)\n",
            "    (1): ReLU()\n",
            "    (2): Linear(in_features=256, out_features=64, bias=True)\n",
            "    (3): ReLU()\n",
            "    (4): Linear(in_features=64, out_features=32, bias=True)\n",
            "  )\n",
            "  (decoder): Sequential(\n",
            "    (0): Linear(in_features=32, out_features=64, bias=True)\n",
            "    (1): ReLU()\n",
            "    (2): Linear(in_features=64, out_features=256, bias=True)\n",
            "    (3): ReLU()\n",
            "    (4): Linear(in_features=256, out_features=784, bias=True)\n",
            "    (5): Sigmoid()\n",
            "  )\n",
            ")\n"
          ]
        }
      ]
    },
    {
      "cell_type": "code",
      "source": [
        "torchinfo.summary(model)"
      ],
      "metadata": {
        "colab": {
          "base_uri": "https://localhost:8080/"
        },
        "id": "k0-P0q41ImJ2",
        "outputId": "04da2e2d-b3c3-45a3-a378-72ce4784ded2"
      },
      "execution_count": 11,
      "outputs": [
        {
          "output_type": "execute_result",
          "data": {
            "text/plain": [
              "=================================================================\n",
              "Layer (type:depth-idx)                   Param #\n",
              "=================================================================\n",
              "SimpleAE                                 --\n",
              "├─Sequential: 1-1                        --\n",
              "│    └─Linear: 2-1                       200,960\n",
              "│    └─ReLU: 2-2                         --\n",
              "│    └─Linear: 2-3                       16,448\n",
              "│    └─ReLU: 2-4                         --\n",
              "│    └─Linear: 2-5                       2,080\n",
              "├─Sequential: 1-2                        --\n",
              "│    └─Linear: 2-6                       2,112\n",
              "│    └─ReLU: 2-7                         --\n",
              "│    └─Linear: 2-8                       16,640\n",
              "│    └─ReLU: 2-9                         --\n",
              "│    └─Linear: 2-10                      201,488\n",
              "│    └─Sigmoid: 2-11                     --\n",
              "=================================================================\n",
              "Total params: 439,728\n",
              "Trainable params: 439,728\n",
              "Non-trainable params: 0\n",
              "================================================================="
            ]
          },
          "metadata": {},
          "execution_count": 11
        }
      ]
    },
    {
      "cell_type": "code",
      "source": [
        "criterion = nn.MSELoss()\n",
        "optimizer = optim.Adam(params=model.parameters(), lr=0.001)"
      ],
      "metadata": {
        "id": "OW6wtwLRIwxm"
      },
      "execution_count": 15,
      "outputs": []
    },
    {
      "cell_type": "code",
      "source": [
        "mnist_train_loader = DataLoader(mnist_train, shuffle=True, batch_size=32)\n",
        "mnist_test_loader = DataLoader(mnist_test, shuffle=False, batch_size=32)"
      ],
      "metadata": {
        "id": "7PUK5zasJMUf"
      },
      "execution_count": 16,
      "outputs": []
    },
    {
      "cell_type": "code",
      "source": [
        "model.train()\n",
        "\n",
        "for epoch in range(2):\n",
        "  total_loss = 0.0\n",
        "  for data in mnist_train_loader:\n",
        "    optimizer.zero_grad()\n",
        "    image, _ = data\n",
        "    output = model(image)\n",
        "    loss = criterion(output, image)\n",
        "\n",
        "    total_loss += loss.item()\n",
        "    loss.backward()\n",
        "    optimizer.step()\n",
        "\n",
        "  print(f\"epoch: {epoch}, loss: {total_loss:.4f}\")"
      ],
      "metadata": {
        "colab": {
          "base_uri": "https://localhost:8080/"
        },
        "id": "OZk0u_5JI4A_",
        "outputId": "709b8c57-1029-4da2-c294-a213c0a849fd"
      },
      "execution_count": 18,
      "outputs": [
        {
          "output_type": "stream",
          "name": "stdout",
          "text": [
            "epoch: 0, loss: 61.9216\n",
            "epoch: 1, loss: 31.2408\n"
          ]
        }
      ]
    },
    {
      "cell_type": "code",
      "source": [
        "model.eval()\n",
        "\n",
        "with torch.no_grad():\n",
        "  for data in mnist_test_loader:\n",
        "    image_test, _ = data\n",
        "    output_test = model(image_test)\n",
        "    break"
      ],
      "metadata": {
        "id": "yJXOjkLgJvJH"
      },
      "execution_count": 19,
      "outputs": []
    },
    {
      "cell_type": "code",
      "source": [
        "def visualize(original, output_test, n=10):\n",
        "  plt.figure(figsize=(8, 8))\n",
        "\n",
        "  for i in range(n):\n",
        "    # original images\n",
        "    ax = plt.subplot(2, n, i+1)\n",
        "    plt.imshow(original[i].view(28, 28).numpy(), cmap=\"gray\")\n",
        "    plt.title(\"original\")\n",
        "    plt.axis(\"off\")\n",
        "\n",
        "    ax = plt.subplot(2, n, i + 1 + n)\n",
        "    plt.imshow(output_test[i].view(28, 28).numpy(), cmap=\"gray\")\n",
        "    plt.title(\"reconstructed\", fontsize=10, rotation=45)\n",
        "    plt.axis(\"off\")\n",
        "\n",
        "  plt.show()"
      ],
      "metadata": {
        "id": "GS0K0cG2KL0H"
      },
      "execution_count": 26,
      "outputs": []
    },
    {
      "cell_type": "code",
      "source": [
        "visualize(image_test, output_test)"
      ],
      "metadata": {
        "colab": {
          "base_uri": "https://localhost:8080/",
          "height": 447
        },
        "id": "6_rbRxLSKxpB",
        "outputId": "071ca24d-bcc4-4338-fc80-23145c5ee027"
      },
      "execution_count": 27,
      "outputs": [
        {
          "output_type": "display_data",
          "data": {
            "text/plain": [
              "<Figure size 800x800 with 20 Axes>"
            ],
            "image/png": "[encoded data removed]"
          },
          "metadata": {}
        }
      ]
    },
    {
      "cell_type": "code",
      "source": [],
      "metadata": {
        "id": "ltGw0tApK8GZ"
      },
      "execution_count": null,
      "outputs": []
    }
  ]
}