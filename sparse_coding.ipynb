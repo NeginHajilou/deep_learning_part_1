{
  "nbformat": 4,
  "nbformat_minor": 0,
  "metadata": {
    "colab": {
      "provenance": []
    },
    "kernelspec": {
      "name": "python3",
      "display_name": "Python 3"
    },
    "language_info": {
      "name": "python"
    }
  },
  "cells": [
    {
      "cell_type": "code",
      "execution_count": 16,
      "metadata": {
        "id": "xRm5msOuoNa-"
      },
      "outputs": [],
      "source": [
        "import numpy as np\n",
        "import matplotlib.pyplot as plt\n",
        "from tensorflow.keras import datasets\n",
        "from sklearn.decomposition import SparseCoder"
      ]
    },
    {
      "cell_type": "markdown",
      "source": [
        "## load the data"
      ],
      "metadata": {
        "id": "iatZLzwYoc0T"
      }
    },
    {
      "cell_type": "code",
      "source": [
        "(x_train, y_train), (x_test, y_test) = datasets.mnist.load_data()"
      ],
      "metadata": {
        "id": "vweYN5y6obej"
      },
      "execution_count": 17,
      "outputs": []
    },
    {
      "cell_type": "markdown",
      "source": [
        "## preprocess the data (flatten and normalize it)"
      ],
      "metadata": {
        "id": "Y8iE2aAToq3a"
      }
    },
    {
      "cell_type": "code",
      "source": [
        "x_train = x_train.astype(\"float32\") / 255.0\n",
        "x_train = x_train.reshape(-1, 28 * 28)\n",
        "\n",
        "x_test = x_test.astype(\"float32\") / 255.0\n",
        "x_test = x_test.reshape(-1, 28 * 28)\n"
      ],
      "metadata": {
        "id": "y6PNkvuZol9o"
      },
      "execution_count": 18,
      "outputs": []
    },
    {
      "cell_type": "code",
      "source": [
        "n_samples = x_train.shape[0]\n",
        "n_samples"
      ],
      "metadata": {
        "colab": {
          "base_uri": "https://localhost:8080/"
        },
        "id": "ncu2BQjOpCjp",
        "outputId": "0c67c414-2cc0-409e-c1ab-8da2b2f92000"
      },
      "execution_count": 19,
      "outputs": [
        {
          "output_type": "execute_result",
          "data": {
            "text/plain": [
              "60000"
            ]
          },
          "metadata": {},
          "execution_count": 19
        }
      ]
    },
    {
      "cell_type": "code",
      "source": [
        "n_components = 64   # number of dict elements\n",
        "random_indices = np.random.randint(0, n_samples, size=n_components)\n",
        "random_indices"
      ],
      "metadata": {
        "colab": {
          "base_uri": "https://localhost:8080/"
        },
        "id": "G3efzRH3pKBI",
        "outputId": "4bdc3aef-8b0a-49f7-ff12-b6b31fa0857a"
      },
      "execution_count": 20,
      "outputs": [
        {
          "output_type": "execute_result",
          "data": {
            "text/plain": [
              "array([39839, 49553, 43773,   833, 40238, 25515, 13945, 43734, 58522,\n",
              "        9988, 15996, 30421, 35222,  5455, 25909, 10005, 56258, 41023,\n",
              "       48493, 22808, 41345, 35699, 57453, 12489, 16539, 11804, 32164,\n",
              "       15915, 29113, 58832, 56240, 10766, 29988, 35255, 34695, 16768,\n",
              "       32407, 55323, 42877, 49189, 16316, 52776, 17891,  6416,  3249,\n",
              "       38340,   714,  5889, 40706, 38767,  4438,  2071, 57851, 21731,\n",
              "       56224, 24634, 43230, 20686, 25315, 35338, 40392, 21144,  8076,\n",
              "       15388])"
            ]
          },
          "metadata": {},
          "execution_count": 20
        }
      ]
    },
    {
      "cell_type": "code",
      "source": [
        "D = x_train[random_indices]   # as dict elements"
      ],
      "metadata": {
        "id": "hZ93JiC1pU5f"
      },
      "execution_count": 21,
      "outputs": []
    },
    {
      "cell_type": "code",
      "source": [
        "D.shape"
      ],
      "metadata": {
        "colab": {
          "base_uri": "https://localhost:8080/"
        },
        "id": "HFJDlan-pcp5",
        "outputId": "5d5f9540-1de3-414e-8148-2e0c8ab1f8f8"
      },
      "execution_count": 22,
      "outputs": [
        {
          "output_type": "execute_result",
          "data": {
            "text/plain": [
              "(64, 784)"
            ]
          },
          "metadata": {},
          "execution_count": 22
        }
      ]
    },
    {
      "cell_type": "code",
      "source": [
        "sparse_coder = SparseCoder(dictionary=D,\n",
        "                           transform_n_nonzero_coefs=3,\n",
        "                           transform_algorithm=\"lars\")\n",
        "sparse_codes = sparse_coder.transform(x_test)"
      ],
      "metadata": {
        "id": "uteSzbUppddI"
      },
      "execution_count": 23,
      "outputs": []
    },
    {
      "cell_type": "code",
      "source": [
        "fig, axes = plt.subplots(2, 8, figsize=(12, 4))\n",
        "\n",
        "for i in range(8):\n",
        "  # original image\n",
        "  axes[0, i].imshow(x_test[i].reshape(28, 28), cmap=\"gray\")\n",
        "  axes[0, i].axis(\"off\")\n",
        "\n",
        "  # sparse representation (non-zero coefs)\n",
        "  axes[1, i].bar(range(n_components), sparse_codes[i])\n",
        "  axes[1, i].set_ylim(0, np.max(sparse_codes))\n",
        "  axes[1, i].set_title(f\"Sample {i}\")\n",
        "\n",
        "plt.tight_layout()\n",
        "plt.show()"
      ],
      "metadata": {
        "colab": {
          "base_uri": "https://localhost:8080/",
          "height": 212
        },
        "id": "nckofcXjqH0w",
        "outputId": "1fc1e0d5-9013-4c00-a20e-0b88642667c9"
      },
      "execution_count": 24,
      "outputs": [
        {
          "output_type": "display_data",
          "data": {
            "text/plain": [
              "<Figure size 1200x400 with 16 Axes>"
            ],
            "image/png": "[encoded data removed]"
          },
          "metadata": {}
        }
      ]
    },
    {
      "cell_type": "code",
      "source": [],
      "metadata": {
        "id": "4HJqfBadqvQY"
      },
      "execution_count": 24,
      "outputs": []
    }
  ]
}