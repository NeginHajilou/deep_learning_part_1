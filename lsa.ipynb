{
 "cells": [
  {
   "cell_type": "code",
   "execution_count": 37,
   "metadata": {},
   "outputs": [],
   "source": [
    "import numpy as np\n",
    "from sklearn.feature_extraction.text import TfidfVectorizer\n",
    "from sklearn.decomposition import TruncatedSVD\n",
    "import nltk\n",
    "from nltk.corpus import stopwords"
   ]
  },
  {
   "cell_type": "code",
   "execution_count": null,
   "metadata": {},
   "outputs": [],
   "source": [
    "nltk.download(\"stopwords\")"
   ]
  },
  {
   "cell_type": "code",
   "execution_count": 39,
   "metadata": {},
   "outputs": [],
   "source": [
    "documents = [\"USA is an advanced military country.\", \"Today is sunny.\",\n",
    "             \"The earth is moving.\", \"Barcelona has won the match.\"]"
   ]
  },
  {
   "cell_type": "code",
   "execution_count": 40,
   "metadata": {},
   "outputs": [],
   "source": [
    "tfidf_vectorizer = TfidfVectorizer(stop_words=\"english\")\n",
    "tfidf_matrix = tfidf_vectorizer.fit_transform(documents)"
   ]
  },
  {
   "cell_type": "code",
   "execution_count": 41,
   "metadata": {},
   "outputs": [
    {
     "name": "stdout",
     "output_type": "stream",
     "text": [
      "shape of the matrix: (4, 11)\n"
     ]
    }
   ],
   "source": [
    "print(f\"shape of the matrix: {tfidf_matrix.shape}\")"
   ]
  },
  {
   "cell_type": "code",
   "execution_count": 42,
   "metadata": {},
   "outputs": [
    {
     "data": {
      "text/plain": [
       "array(['advanced', 'barcelona', 'country', 'earth', 'match', 'military',\n",
       "       'moving', 'sunny', 'today', 'usa', 'won'], dtype=object)"
      ]
     },
     "execution_count": 42,
     "metadata": {},
     "output_type": "execute_result"
    }
   ],
   "source": [
    "tfidf_vectorizer.get_feature_names_out()"
   ]
  },
  {
   "cell_type": "code",
   "execution_count": 43,
   "metadata": {},
   "outputs": [],
   "source": [
    "num_topics = 3\n",
    "\n",
    "lsa_model = TruncatedSVD(n_components=num_topics, random_state=42)\n",
    "lsa_matrix = lsa_model.fit_transform(tfidf_matrix)"
   ]
  },
  {
   "cell_type": "code",
   "execution_count": 44,
   "metadata": {},
   "outputs": [
    {
     "name": "stdout",
     "output_type": "stream",
     "text": [
      "topic: 1; sunny, today, earth\n",
      "topic: 2; match, won, barcelona\n",
      "topic: 3; earth, moving, match\n"
     ]
    }
   ],
   "source": [
    "terms = tfidf_vectorizer.get_feature_names_out()\n",
    "\n",
    "for i, component in enumerate(lsa_model.components_):\n",
    "    terms_in_topic = zip(terms, component)\n",
    "\n",
    "    # selecting top 3 words\n",
    "    sorted_terms = sorted(terms_in_topic, key=lambda x: x[1], reverse=True)[:3]\n",
    "    print(f\"topic: {i+1}; {', '.join(term for term, _ in sorted_terms)}\")"
   ]
  }
 ],
 "metadata": {
  "kernelspec": {
   "display_name": ".virtenv",
   "language": "python",
   "name": ".virtenv"
  },
  "language_info": {
   "codemirror_mode": {
    "name": "ipython",
    "version": 3
   },
   "file_extension": ".py",
   "mimetype": "text/x-python",
   "name": "python",
   "nbconvert_exporter": "python",
   "pygments_lexer": "ipython3",
   "version": "3.8.5"
  }
 },
 "nbformat": 4,
 "nbformat_minor": 2
}
